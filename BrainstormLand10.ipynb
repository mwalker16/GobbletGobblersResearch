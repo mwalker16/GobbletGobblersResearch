{
 "cells": [
  {
   "cell_type": "code",
   "execution_count": 40,
   "metadata": {},
   "outputs": [],
   "source": [
    "import numpy as np"
   ]
  },
  {
   "cell_type": "code",
   "execution_count": 43,
   "metadata": {},
   "outputs": [
    {
     "name": "stdout",
     "output_type": "stream",
     "text": [
      "[0 0 0 0 0 0 0 0 0 0 0 0 0 0]\n"
     ]
    }
   ],
   "source": [
    "'''\n",
    "The create_board() function simply returns a 14-length numpy array of all zeros. This will be the format that we will use to represent the state\n",
    "of the board. Indeces 0-5 are player0's pieces and indeces 6-11 are player1's pieces, where 0-1 are small player0 pieces, 2-3 are medium player0\n",
    "pieces, 4-5 are large player0 pieces, 6-7 small player1 pieces, 8-9 medium player1 pieces, 10-11 large player1 pieces. The eligible numbers in\n",
    "these spots range from 0-9 where 0 means the piece has not been placed and 1-9 represent the spots on the board from top left to bottom right.\n",
    "Index 12 is either 0 or 1 where 0 means it's player0's turn to play and 1 means it's player1's turn next (the 0 and 1 are why I call them player0\n",
    "and 1 instead of 1 and 2), and index 13 represents the winning state of the board. The goal is to have index 13 range from -10 to 10 where 10\n",
    "means the board is in a state where player0 has won and -10 means player1 has won, and then the scoring mechanism (still to be decided how this\n",
    "will work) will determine the ranges from -9 to 9 and essentially represents who has the advantage of the current board state and how big is that\n",
    "advantage (positive number is advantage for player0 and negative for player1).\n",
    "'''\n",
    "def create_board():\n",
    "    return np.zeros(14, dtype = int)\n",
    "board1 = create_board()\n",
    "print(board1)"
   ]
  },
  {
   "cell_type": "code",
   "execution_count": 44,
   "metadata": {},
   "outputs": [
    {
     "name": "stdout",
     "output_type": "stream",
     "text": [
      "[0 1 2 3 4 5]\n"
     ]
    }
   ],
   "source": [
    "# We have decided to tackle this research question in 2 stages. The overall Gobblet Gobblers game allows players to move pieces that they have\n",
    "# already placed on the board to different spots, but we decided to simplify this for the first stage. So as of right now a player is not able\n",
    "# to move a piece that they have already placed.\n",
    "'''\n",
    "The available_pieces() function takes in the current board and determines what available pieces the player whose turn it is can play. In stage 1\n",
    "this is similar to tic-tac-toe where only non-placed pieces are available, but this should be updated in stage 2. In the updated version all\n",
    "pieces should be available unless it's currently on the board and covered by a larger piece. This function returns a numpy array containing\n",
    "the indeces of the available pieces for the current player.\n",
    "'''\n",
    "def available_pieces(board):\n",
    "    if board[12] == 0:\n",
    "        # np.where returns an array of the indeces that match the conditional statement. np.where actually returns a tuple that contains the \n",
    "        # array inside of it, so using [0] at the end of it will return the actual array.\n",
    "        return np.where(board[0:6] == 0)[0]\n",
    "    else:\n",
    "        return np.where(board[6:12] == 0)[0] + 6\n",
    "placeable_pieces = available_pieces(board1)\n",
    "print(placeable_pieces)"
   ]
  },
  {
   "cell_type": "code",
   "execution_count": 45,
   "metadata": {},
   "outputs": [],
   "source": [
    "# Enter results from available_pieces into this function\n",
    "'''\n",
    "The eliminate_redundant_pieces() function takes in the output array from available_pieces() and determines if the player has two pieces of the same\n",
    "size. It then deletes all the second pieces of the same size from the available_pieces array. By only allowing the first piece to be placed of\n",
    "matching-sized unplayed pieces, we can reduce the amount of possible boards in the beginning plays. If available_pieces = [0, 1, 4, 5] then\n",
    "this function will return [0, 4].\n",
    "'''\n",
    "def eliminate_redundant_pieces(piece_set):\n",
    "    # Checking for 2 conditions to be true in available_pieces array: \n",
    "    # piece is even number and the piece at (index + 1) is one number greater, if yes then delete the second occurence of the piece size\n",
    "    pieces_with_redundancy = np.where((piece_set[:-1] % 2 == 0) & (piece_set[1:] == piece_set[:-1] + 1))[0]\n",
    "    return np.delete(piece_set, pieces_with_redundancy + 1)"
   ]
  },
  {
   "cell_type": "code",
   "execution_count": 46,
   "metadata": {},
   "outputs": [
    {
     "name": "stdout",
     "output_type": "stream",
     "text": [
      "[0 2 4]\n"
     ]
    }
   ],
   "source": [
    "leftover_pieces = eliminate_redundant_pieces(available_pieces(board1))\n",
    "print(leftover_pieces)"
   ]
  },
  {
   "cell_type": "markdown",
   "metadata": {},
   "source": [
    "From here, we discovered 2 different approaches for how to populate a data structure to store all of the canonical boards:\n",
    "1. Using a set for canonical boards allows the use of hashing for storage of the boards, so checking if boards exist within the set is very efficient and the time it takes to search for boards is not dependent on the size of the set. This approach requires checking if all 8 symmetries of each board we encounter exist within the canonical_boards set.\n",
    "2. Using a list for canonical boards allows us to use a series of checks of symmetry for each board we encounter against each board inside of canonical_list. This approach requires using a for-loop to compare the new board to each canonical board, but the series of if, elif, else statements allow for quick checks of the 8 possible symmetries.  \n",
    "Because the canonical boards data structure will become so large due to all the possible board states, running tests to find the more efficient process will be crucial. Having this data structure will greatly reduce the computing needed when the game theory tree is created since once we create the tree for one board we can automatically \"play out\" all boards that are symmetric to that board and there will be no need to recreate that tree."
   ]
  },
  {
   "cell_type": "code",
   "execution_count": 47,
   "metadata": {},
   "outputs": [],
   "source": [
    "'''\n",
    "The switch_player() function simply switches the 13th element of the board from 0 to 1 or 1 to 0 to indicate it is the other player's turn.\n",
    "'''\n",
    "def switch_player(board):\n",
    "    if board[12] == 0:\n",
    "        board[12] = 1\n",
    "    else:\n",
    "        board[12] = 0"
   ]
  },
  {
   "cell_type": "code",
   "execution_count": 48,
   "metadata": {},
   "outputs": [],
   "source": [
    "'''\n",
    "These 7 arrays represent the transformation operations that are performed on a board to obtain the symmetric versions of that board. Because our\n",
    "arrays are not set up in a format where we can use matrix multiplication to transform the boards, we have to coordinate each spot on the board to\n",
    "a new spot depending on the type of transformation. The NumPy concept we use here is called 'array indexing' and essentially it takes in a board and\n",
    "assigns each piece (indeces 0-11) with a new spot on the board that represents some type of transformation. It is set up like this:\n",
    "rotation_90_mapping[board]. Essentially, it maps the current spot of a piece in the board array to the spot in the mapping array that has the index\n",
    "of the current spot of the piece. Yeah I know that's confusing wording, it took me a while to get it too. If I have a \n",
    "                     current_board = [5, 0, 0, 0, 3, 0, 9, 0, 0, 0, 8, 0, 0, 0] then the resulting board from \n",
    "rotation_90_mapping[current_board] = [5, 0, 0, 0, 9, 0, 7, 0, 0, 0, 4, 0, 0, 0]. Since the 3rd index of rotation_90_mapping is 9 (look at\n",
    "rotation_90_mapping below), then the piece in the 3rd spot from board array goes to spot 9, the piece in the 9th spot goes to spot 7, the piece in\n",
    "the 8th spot goes to spot 4, etc. I would recommend pulling out a sheet of paper and and making a tic-tac-toe board state and trying these out to\n",
    "visualize this concept better.\n",
    "'''\n",
    "rotation_90_mapping = np.array([0, 3, 6, 9, 2, 5, 8, 1, 4, 7])\n",
    "rotation_180_mapping = np.array([0, 9, 8, 7, 6, 5, 4, 3, 2, 1])\n",
    "rotation_270_mapping = np.array([0, 7, 4, 1, 8, 5, 2, 9, 6, 3])\n",
    "vertical_reflection_mapping = np.array([0, 7, 8, 9, 4, 5, 6, 1, 2, 3])\n",
    "horizontal_reflection_mapping = np.array([0, 3, 2, 1, 6, 5, 4, 9, 8, 7])\n",
    "r90_vreflect_mapping = np.array([0, 9, 6, 3, 8, 5, 2, 7, 4, 1])\n",
    "r90_hreflect_mapping = np.array([0, 1, 4, 7, 2, 5, 8, 3, 6, 9])"
   ]
  },
  {
   "cell_type": "code",
   "execution_count": 49,
   "metadata": {},
   "outputs": [],
   "source": [
    "# This will be the data structure that we will use for the 'set' approach that we described earlier as the first approach to checking symmetry.\n",
    "canonical_boards = set()"
   ]
  },
  {
   "cell_type": "code",
   "execution_count": 50,
   "metadata": {},
   "outputs": [],
   "source": [
    "def reorder_pieces(board_array):\n",
    "    for i in range(0, len(board_array), 2):\n",
    "        if board_array[i+1] != 0 & (board_array[i] > board_array[i+1]):\n",
    "            board_array[i:i+2].sort()\n",
    "    return board_array"
   ]
  },
  {
   "cell_type": "code",
   "execution_count": 51,
   "metadata": {},
   "outputs": [],
   "source": [
    "'''\n",
    "The check_symmetry() function checks if our current board or any symmetric versions of our current board exist inside of the canonical_boards set,\n",
    "then adds our current board to canonical_boards if none of them exist inside of it. Because canonical_boards is a set, it doesn't allow mutable\n",
    "objects to be stored inside of it so we have to convert our board arrays into tuples (non-mutable) to check if they exist in canonical_boards\n",
    "and to add them. We store the tuple versions of our 8 symmetric boards in a set of their own and use a set operation to efficiently check if there\n",
    "is any overlap between that set and canonical_boards.\n",
    "'''\n",
    "def check_symmetry(board):\n",
    "    symmetric_boards = {tuple(board),\n",
    "                        # We only want to apply the array indexing to the players pieces in the board array (indeces 0-11) but we want to check for the\n",
    "                        # entire board in canonical_boards, so we have to combine the transformed version of the pieces with the last 2 indeces\n",
    "                        # using np.append\n",
    "                        tuple(np.append(reorder_pieces(rotation_90_mapping[board[:12]]), board[12:])),\n",
    "                        tuple(np.append(reorder_pieces(rotation_180_mapping[board[:12]]), board[12:])),\n",
    "                        tuple(np.append(reorder_pieces(rotation_270_mapping[board[:12]]), board[12:])),\n",
    "                        tuple(np.append(reorder_pieces(vertical_reflection_mapping[board[:12]]), board[12:])),\n",
    "                        tuple(np.append(reorder_pieces(horizontal_reflection_mapping[board[:12]]), board[12:])),\n",
    "                        tuple(np.append(reorder_pieces(r90_vreflect_mapping[board[:12]]), board[12:])),\n",
    "                        tuple(np.append(reorder_pieces(r90_hreflect_mapping[board[:12]]), board[12:]))}\n",
    "    \n",
    "    # .isdisjoint() returns True if there are no common elements between symmetric_boards and canonical_boards and False if there are common elements\n",
    "    if symmetric_boards.isdisjoint(canonical_boards):\n",
    "        canonical_boards.add(tuple(board))"
   ]
  },
  {
   "cell_type": "code",
   "execution_count": 52,
   "metadata": {},
   "outputs": [],
   "source": [
    "# This will be the data structure that we will use for the 'list' approach that was described earlier as the second approach to checking symmetry.\n",
    "canonical_list = []"
   ]
  },
  {
   "cell_type": "code",
   "execution_count": 53,
   "metadata": {},
   "outputs": [],
   "source": [
    "'''\n",
    "The isNew() function accomplishes the same goal as check_symmetry() but achieves it differently. This isNew() function takes in a board state and\n",
    "uses a for-loop to compare it individually to each board inside of canonical_list. To compare the board state to each canonical board, we use a series\n",
    "of symmetry checks so that we can efficiently do two different things: 1. move to the next canonical board in the for-loop if the new board state is not\n",
    "equal to or symmetric to the canonical board it is being compared with, and 2. the entire function returns False as soon as we find that the new board\n",
    "state is equal to or symmetric to a canonical board. If we loop through every canonical board and no equalities/symmetries are found with the new board\n",
    "state then the new board state is canonical and will be added to the canonical_list (not done inside of this function). isNew() returns False if the\n",
    "board state is equal to or symmetric to a canonical board and True if it's a new board that we have not run into yet.\n",
    "'''\n",
    "\n",
    "# Once again I recommend pulling out a sheet of paper and working through these symmetry checks for a better understanding of what is going on\n",
    "'''\n",
    "Here's a quick run-through of the idea behind these checks. I'll refer to the new board state as New and the canonical board it is being compared to as\n",
    "Canonical.\n",
    "1. Check if the center spot of New is equal to the center spot of Canonical, if yes move on\n",
    "2. Check if the top left corner (spot 1) of New is equal to any of the corners of Canonical (spots 1, 3, 7, 9), if yes move on\n",
    "3. Check if the bottom right corner (spot 9) of New is equal to the opposite of the matching corner from the previous step of Canonical (9 if the\n",
    "    previous step was 1, 7 if the previous step was 3, 3 if previous step was 7, 1 if previous step was 9), if yes move on\n",
    "4. Create 2 separate checks that checks if the top right corner (spot 3) of New is equal to either of the remaining corners of Canonical that are not\n",
    "    matched to 1 and 9 of New, if yes for either, move on to their respective if statement\n",
    "5. Check if the entire board of New matches the entire board of Canonical using the correct transformation of New based on where spots 1, 3, 9 of\n",
    "    New match to Canonical, if yes then New is not canonical\n",
    "'''\n",
    "def isNew(board):\n",
    "    for canonical in canonical_list:\n",
    "        # np.where(board[0:12] == 5)[0] will return an array of all the indeces in board[0:12] that are equal to 5\n",
    "        # This allows us to prove equality even if there are multiple pieces on that spot\n",
    "        if np.where(board[0:12] == 5)[0] != np.where(canonical[0:12] == 5)[0]:\n",
    "             # The key word 'continue' means to exit the current iteration of the for-loop and continue to the next iteration\n",
    "             continue\n",
    "        \n",
    "        elif np.where(board[0:12] == 1)[0] == np.where(canonical[0:12] == 1)[0]:\n",
    "            if np.where(board[0:12] == 9)[0] == np.where(canonical[0:12] == 9)[0]:\n",
    "                if np.where(board[0:12] == 3)[0] == np.where(canonical[0:12] == 3)[0]:\n",
    "                    if board == canonical:\n",
    "                        return False\n",
    "                    else:\n",
    "                        continue\n",
    "                elif np.where(board[0:12] == 3)[0] == np.where(canonical[0:12] == 7)[0]:\n",
    "                    if np.append(r90_hreflect_mapping[board[:12]], board[12:]) == canonical:\n",
    "                        return False\n",
    "                    else:\n",
    "                        continue\n",
    "                else:\n",
    "                    continue\n",
    "            else:\n",
    "                continue\n",
    "        \n",
    "        elif np.where(board[0:12] == 1)[0] == np.where(canonical[0:12] == 3)[0]:\n",
    "            if np.where(board[0:12] == 9)[0] == np.where(canonical[0:12] == 7)[0]:\n",
    "                if np.where(board[0:12] == 3)[0] == np.where(canonical[0:12] == 9)[0]:\n",
    "                    if np.append(rotation_90_mapping[board[12:]], board[12:]) == canonical:\n",
    "                        return False\n",
    "                    else:\n",
    "                        continue\n",
    "                elif np.where(board[0:12] == 3)[0] == np.where(canonical[0:12] == 1)[0]:\n",
    "                    if np.append(horizontal_reflection_mapping[board[:12]], board[12:]) == canonical:\n",
    "                        return False\n",
    "                    else:\n",
    "                        continue\n",
    "                else:\n",
    "                    continue\n",
    "            else:\n",
    "                continue\n",
    "            \n",
    "        elif np.where(board[0:12] == 1)[0] == np.where(canonical[0:12] == 7)[0]:\n",
    "            if np.where(board[0:12] == 9)[0] == np.where(canonical[0:12] == 3)[0]:\n",
    "                if np.where(board[0:12] == 3)[0] == np.where(canonical[0:12] == 1)[0]:\n",
    "                    if rotation_270_mapping[board] == canonical:\n",
    "                        return False\n",
    "                    else:\n",
    "                        continue\n",
    "                elif np.where(board[0:12] == 3)[0] == np.where(canonical[0:12] == 9)[0]:\n",
    "                    if vertical_reflection_mapping[board] == canonical:\n",
    "                        return False\n",
    "                    else:\n",
    "                        continue\n",
    "                else:\n",
    "                    continue\n",
    "            else:\n",
    "                continue\n",
    "            \n",
    "        elif np.where(board[0:12] == 1)[0] == np.where(canonical[0:12] == 9)[0]:\n",
    "            if np.where(board[0:12] == 9)[0] == np.where(canonical[0:12] == 1)[0]:\n",
    "                if np.where(board[0:12] == 3)[0] == np.where(canonical[0:12] == 7)[0]:\n",
    "                    if rotation_180_mapping[board] == canonical:\n",
    "                        return False\n",
    "                    else:\n",
    "                        continue\n",
    "                elif np.where(board[0:12] == 3)[0] == np.where(canonical[0:12] == 3)[0]:\n",
    "                    if r90_vreflect_mapping[board] == canonical:\n",
    "                        return False\n",
    "                    else:\n",
    "                        continue\n",
    "                else:\n",
    "                    continue\n",
    "            else:\n",
    "                continue\n",
    "        else:\n",
    "            continue\n",
    "        \n",
    "    return True\n",
    "        "
   ]
  },
  {
   "cell_type": "code",
   "execution_count": 54,
   "metadata": {},
   "outputs": [],
   "source": [
    "test_board = np.array([1, 9, 3, 5, 0, 0, 8, 2, 0, 4, 1, 9, 0, 0])\n",
    "test_board2 = np.array([0, 7, 5, 3, 0, 9, 0, 0, 4, 0, 0, 0, 0, 0])"
   ]
  },
  {
   "cell_type": "code",
   "execution_count": 55,
   "metadata": {},
   "outputs": [],
   "source": [
    "test_board = test_board.reshape(7,2)\n",
    "test_board2 = test_board2.reshape(7, 2)"
   ]
  },
  {
   "cell_type": "code",
   "execution_count": 56,
   "metadata": {},
   "outputs": [
    {
     "data": {
      "text/plain": [
       "array([1], dtype=int64)"
      ]
     },
     "execution_count": 56,
     "metadata": {},
     "output_type": "execute_result"
    }
   ],
   "source": [
    "np.where(test_board[0:6] == 5)[0]"
   ]
  },
  {
   "cell_type": "code",
   "execution_count": 57,
   "metadata": {},
   "outputs": [
    {
     "name": "stdout",
     "output_type": "stream",
     "text": [
      "False\n"
     ]
    }
   ],
   "source": [
    "if np.all(np.where(test_board[0:6] == 1)[0] == np.where(test_board2[0:6] == 1)[0]):\n",
    "    print('True')\n",
    "else:\n",
    "    print('False')"
   ]
  },
  {
   "cell_type": "code",
   "execution_count": 58,
   "metadata": {},
   "outputs": [
    {
     "ename": "TypeError",
     "evalue": "array_equal() missing 1 required positional argument: 'a2'",
     "output_type": "error",
     "traceback": [
      "\u001b[1;31m---------------------------------------------------------------------------\u001b[0m",
      "\u001b[1;31mTypeError\u001b[0m                                 Traceback (most recent call last)",
      "Cell \u001b[1;32mIn[58], line 1\u001b[0m\n\u001b[1;32m----> 1\u001b[0m \u001b[38;5;28;01mif\u001b[39;00m np\u001b[38;5;241m.\u001b[39marray_equal(np\u001b[38;5;241m.\u001b[39mwhere(test_board[\u001b[38;5;241m0\u001b[39m:\u001b[38;5;241m6\u001b[39m] \u001b[38;5;241m==\u001b[39m \u001b[38;5;241m1\u001b[39m)[\u001b[38;5;241m0\u001b[39m] \u001b[38;5;241m==\u001b[39m np\u001b[38;5;241m.\u001b[39mwhere(test_board2[\u001b[38;5;241m0\u001b[39m:\u001b[38;5;241m6\u001b[39m] \u001b[38;5;241m==\u001b[39m \u001b[38;5;241m1\u001b[39m)[\u001b[38;5;241m0\u001b[39m]):\n\u001b[0;32m      2\u001b[0m     \u001b[38;5;28mprint\u001b[39m(\u001b[38;5;124m'\u001b[39m\u001b[38;5;124mTrue\u001b[39m\u001b[38;5;124m'\u001b[39m)\n\u001b[0;32m      3\u001b[0m \u001b[38;5;28;01melse\u001b[39;00m:\n",
      "File \u001b[1;32m<__array_function__ internals>:198\u001b[0m, in \u001b[0;36marray_equal\u001b[1;34m(*args, **kwargs)\u001b[0m\n",
      "\u001b[1;31mTypeError\u001b[0m: array_equal() missing 1 required positional argument: 'a2'"
     ]
    }
   ],
   "source": [
    "if np.array_equal(np.where(test_board[0:6] == 1)[0] == np.where(test_board2[0:6] == 1)[0]):\n",
    "    print('True')\n",
    "else:\n",
    "    print('False')"
   ]
  },
  {
   "cell_type": "code",
   "execution_count": 59,
   "metadata": {},
   "outputs": [
    {
     "data": {
      "text/plain": [
       "array([[1, 9],\n",
       "       [3, 5],\n",
       "       [0, 0],\n",
       "       [8, 2],\n",
       "       [0, 4],\n",
       "       [1, 9]])"
      ]
     },
     "execution_count": 59,
     "metadata": {},
     "output_type": "execute_result"
    }
   ],
   "source": [
    "test_board[0:6]"
   ]
  },
  {
   "cell_type": "code",
   "execution_count": 60,
   "metadata": {},
   "outputs": [],
   "source": [
    "winning_patterns = [\n",
    "    np.array([1, 2, 3]),\n",
    "    np.array([4, 5, 6]),\n",
    "    np.array([7, 8, 9]),\n",
    "    np.array([1, 4, 7]),\n",
    "    np.array([2, 5, 8]),\n",
    "    np.array([3, 6, 9]),\n",
    "    np.array([1, 5, 9]),\n",
    "    np.array([3, 5, 7])\n",
    "]"
   ]
  },
  {
   "cell_type": "code",
   "execution_count": 61,
   "metadata": {},
   "outputs": [],
   "source": [
    "def check_win(board):\n",
    "    winner0 = None\n",
    "    winner1 = None\n",
    "    # Checking win conditions for player0\n",
    "    for win_index in np.where(np.all(np.isin(winning_patterns, board[0:6]), axis = 1))[0]:\n",
    "        winner0 = True\n",
    "        for p1_index in (np.where(np.isin(board[6:12], winning_patterns[win_index]))[0]):\n",
    "            if p1_index > np.where(np.isin(board[0:6], board[6:12][p1_index]))[0][-1]:\n",
    "                winner0 = False\n",
    "                break\n",
    "        if winner0:\n",
    "            board[13] = 10\n",
    "            break\n",
    "\n",
    "    for win_index in np.where(np.all(np.isin(winning_patterns, board[6:12]), axis = 1))[0]:\n",
    "        winner1 = True\n",
    "        for p0_index in (np.where(np.isin(board[0:6], winning_patterns[win_index]))[0]):\n",
    "            if p0_index > np.where(np.isin(board[6:12], board[0:6][p0_index]))[0][-1]:\n",
    "                winner1 = False\n",
    "                break\n",
    "        if winner1:\n",
    "            board[13] = -10 if winner0 != True else 500\n",
    "    \n",
    "    return board"
   ]
  },
  {
   "cell_type": "code",
   "execution_count": 62,
   "metadata": {},
   "outputs": [],
   "source": [
    "'''\n",
    "The legal_moves_set() function takes in a board and determines all the possible moves that the current player could make. It first creates a copy of\n",
    "the current board that is taken in and assigns it to temp_board so we can make changes to the temp_board without affecting the original board. It calls\n",
    "the available_pieces() and eliminate_redundant_pieces() functions to see what pieces are available to be played, then for each available piece it loops\n",
    "through spots 1-9 on the board and determines how many of the 9 spots that piece could be played (depending on what pieces already occupy those spots).\n",
    "If the function finds a legal move then it makes that move on the temp_board, then submits that temp_board with the new move to the check_symmetry()\n",
    "function so that we can check if this board or a board symmetric to it already exists in canonical_boards. The check_symmetry() function will then add\n",
    "the board to canonical_boards if it is a canonical board. Then the temp_board variable is re-assigned to the original board and the loop continues to\n",
    "the next spots and pieces to check for more legal moves. \n",
    "'''\n",
    "def legal_moves_set(board):\n",
    "    temp_board = board.copy()\n",
    "    pieces  = eliminate_redundant_pieces(available_pieces(board))\n",
    "    # Loop through all available pieces that can be played\n",
    "    for piece in pieces:\n",
    "        # Loop through numbers 1-9 which represent the 9 spots on the board\n",
    "        for spot in range(1, 10):\n",
    "            # Checks to see if the current piece is a small piece, meaning that a spot must be empty for it to be played\n",
    "            if piece in (0, 1, 6, 7):\n",
    "                # Checks to see if any piece is on the current spot of the loop\n",
    "                if spot in board[0:12]:\n",
    "                    continue\n",
    "                else:\n",
    "                    # Assigns the spot to the index of the piece in temp_board because it is confirmed to be a legal move\n",
    "                    # This action can be looked at as the current player making a move\n",
    "                    temp_board[piece] = spot\n",
    "                    # Since each player has two pieces of the same size, 2 boards that are exactly the same could both be added to canonical_boards if\n",
    "                    # the two boards are the exact same except the two same-sized pieces are swapped. The pieces have different index representations\n",
    "                    # in our model but represent the same piece. This if-statement checks to see if the index of the current piece in the for-loop is\n",
    "                    # even or odd, then sorts it and its matching piece in increasing order. If board[0] = 9 and board[1] = 3 then board[0] is now 3\n",
    "                    # and board[1] is now 9.\n",
    "                    if piece % 2 == 1:\n",
    "                        temp_board[piece-1:piece+1].sort()\n",
    "                    elif piece % 2 == 0 and temp_board[piece+1] != 0:\n",
    "                        temp_board[piece:piece+2].sort()\n",
    "                    temp_board = check_win(temp_board)\n",
    "                    check_symmetry(temp_board)\n",
    "                    temp_board = board.copy()\n",
    "            # Checks to see if the current piece is a medium piece, so it can be played in an empty spot or on top of a small piece\n",
    "            elif piece in (2, 3, 8, 9):\n",
    "                # np.where checks to see if there are any pieces in the original board that currently occupy the spot we are looking at. np.isin then\n",
    "                # checks if any of those pieces in the spot are medium or large. Finally, np.any returns True if there are pieces in the spot that are\n",
    "                # medium/large and False if there are no pieces in the spot or the piece in the spot is small.\n",
    "                if np.any(np.isin(np.where(board[0:12] == spot)[0], (2, 3, 8, 9, 4, 5, 10, 11))):\n",
    "                    continue\n",
    "                else:\n",
    "                    temp_board[piece] = spot\n",
    "                    if piece % 2 == 1:\n",
    "                        temp_board[piece-1:piece+1].sort()\n",
    "                    elif piece % 2 == 0 and temp_board[piece+1] != 0:\n",
    "                        temp_board[piece:piece+2].sort()\n",
    "                    temp_board = check_win(temp_board)\n",
    "                    check_symmetry(temp_board)\n",
    "                    temp_board = board.copy()\n",
    "            else:\n",
    "                # Returns True if there are any pieces in the spot we are looking at and the piece is large, returns False if there are no pieces in the\n",
    "                # spot or if there are pieces in the spot but they are small or medium.\n",
    "                if np.any(np.isin(np.where(board[0:12] == spot)[0], (4, 5, 10, 11))):\n",
    "                    continue\n",
    "                else:\n",
    "                    temp_board[piece] = spot\n",
    "                    if piece % 2 == 1:\n",
    "                        temp_board[piece-1:piece+1].sort()\n",
    "                    elif piece % 2 == 0 and temp_board[piece+1] != 0:\n",
    "                        temp_board[piece:piece+2].sort()\n",
    "                    temp_board = check_win(temp_board)\n",
    "                    check_symmetry(temp_board)\n",
    "                    temp_board = board.copy()"
   ]
  },
  {
   "cell_type": "code",
   "execution_count": 63,
   "metadata": {},
   "outputs": [],
   "source": [
    "'''\n",
    "The legal_moves_list() function is an exact copy of legal_moves_set() except it will be used for our 'list' approach, so the only difference is that\n",
    "isNew() is used instead of check_symmetry() and new boards are added to canonical_list instead of canonical_boards.\n",
    "'''\n",
    "def legal_moves_list(board):\n",
    "    temp_board = board.copy()\n",
    "    pieces  = eliminate_redundant_pieces(available_pieces(board))\n",
    "    for piece in pieces:\n",
    "        for spot in range(1, 10):\n",
    "            if piece in (0, 1, 6, 7):\n",
    "                if spot in board[0:12]:\n",
    "                    continue\n",
    "                else:\n",
    "                    temp_board[piece] = spot\n",
    "                    if piece % 2 == 1:\n",
    "                        temp_board[piece-1:piece+1].sort()\n",
    "                    elif piece % 2 == 0 and temp_board[piece+1] != 0:\n",
    "                        temp_board[piece:piece+2].sort()\n",
    "                    temp_board = check_win(temp_board)\n",
    "                    temp_board = temp_board.reshape(7, 2)\n",
    "                    # isNew() function returns True if the board is canonical and False if the board or a symmetric version of it is found in\n",
    "                    # canonical_list. Therefore we must append the board here if isNew() is True.\n",
    "                    if isNew(temp_board): canonical_list.append(temp_board)\n",
    "                    temp_board = board.copy()\n",
    "            elif piece in (2, 3, 8, 9):\n",
    "                if np.any(np.isin(np.where(board[0:12] == spot)[0], (2, 3, 8, 9, 4, 5, 10, 11))):\n",
    "                    continue\n",
    "                else:\n",
    "                    temp_board[piece] = spot\n",
    "                    if piece % 2 == 1:\n",
    "                        temp_board[piece-1:piece+1].sort()\n",
    "                    elif piece % 2 == 0 and temp_board[piece+1] != 0:\n",
    "                        temp_board[piece:piece+2].sort()\n",
    "                    temp_board = check_win(temp_board)\n",
    "                    temp_board = temp_board.reshape(7, 2)\n",
    "                    if isNew(temp_board): canonical_list.append(temp_board)\n",
    "                    temp_board = board.copy()\n",
    "            else:\n",
    "                if np.any(np.isin(np.where(board[0:12] == spot)[0], (4, 5, 10, 11))):\n",
    "                    continue\n",
    "                else:\n",
    "                    temp_board[piece] = spot\n",
    "                    if piece % 2 == 1:\n",
    "                        temp_board[piece-1:piece+1].sort()\n",
    "                    elif piece % 2 == 0 and temp_board[piece+1] != 0:\n",
    "                        temp_board[piece:piece+2].sort()\n",
    "                    temp_board = check_win(temp_board)\n",
    "                    temp_board = temp_board.reshape(7, 2)\n",
    "                    if isNew(temp_board): canonical_list.append(temp_board)\n",
    "                    temp_board = board.copy()"
   ]
  },
  {
   "cell_type": "code",
   "execution_count": null,
   "metadata": {},
   "outputs": [
    {
     "data": {
      "text/plain": [
       "{(1, 9, 0, 0, 0, 0, 2, 0, 0, 0, 9, 0, 0, 0)}"
      ]
     },
     "execution_count": 21,
     "metadata": {},
     "output_type": "execute_result"
    }
   ],
   "source": [
    "canonical_boards.add(tuple(np.array([1, 9, 0, 0, 0, 0, 2, 0, 0, 0, 9, 0, 0, 0])))\n",
    "canonical_boards"
   ]
  },
  {
   "cell_type": "code",
   "execution_count": null,
   "metadata": {},
   "outputs": [],
   "source": [
    "exception_board = np.array([1, 9, 0, 0, 0, 0, 8, 0, 0, 0, 1, 0, 0, 0])"
   ]
  },
  {
   "cell_type": "code",
   "execution_count": null,
   "metadata": {},
   "outputs": [],
   "source": [
    "check_symmetry(exception_board)"
   ]
  },
  {
   "cell_type": "code",
   "execution_count": null,
   "metadata": {},
   "outputs": [],
   "source": [
    "canonical_list.append(np.array([1, 9, 0, 0, 0, 0, 2, 0, 0, 0, 9, 0, 0, 0]))"
   ]
  },
  {
   "cell_type": "code",
   "execution_count": null,
   "metadata": {},
   "outputs": [
    {
     "name": "stderr",
     "output_type": "stream",
     "text": [
      "C:\\Users\\mjw01\\AppData\\Local\\Temp\\ipykernel_4892\\988235250.py:28: DeprecationWarning: The truth value of an empty array is ambiguous. Returning False, but in future this will result in an error. Use `array.size > 0` to check that an array is not empty.\n",
      "  if np.where(board[0:12] == 5)[0] != np.where(canonical[0:12] == 5)[0]:\n"
     ]
    },
    {
     "ename": "ValueError",
     "evalue": "The truth value of an array with more than one element is ambiguous. Use a.any() or a.all()",
     "output_type": "error",
     "traceback": [
      "\u001b[1;31m---------------------------------------------------------------------------\u001b[0m",
      "\u001b[1;31mValueError\u001b[0m                                Traceback (most recent call last)",
      "\u001b[1;32mc:\\Users\\mjw01\\OneDrive\\JCU Fall 2023\\GG Research\\GG Python\\Gobblet Gobblers game\\BrainstormLand9.ipynb Cell 21\u001b[0m line \u001b[0;36m1\n\u001b[1;32m----> <a href='vscode-notebook-cell:/c%3A/Users/mjw01/OneDrive/JCU%20Fall%202023/GG%20Research/GG%20Python/Gobblet%20Gobblers%20game/BrainstormLand9.ipynb#X43sZmlsZQ%3D%3D?line=0'>1</a>\u001b[0m isNew(exception_board)\n",
      "\u001b[1;32mc:\\Users\\mjw01\\OneDrive\\JCU Fall 2023\\GG Research\\GG Python\\Gobblet Gobblers game\\BrainstormLand9.ipynb Cell 21\u001b[0m line \u001b[0;36m3\n\u001b[0;32m     <a href='vscode-notebook-cell:/c%3A/Users/mjw01/OneDrive/JCU%20Fall%202023/GG%20Research/GG%20Python/Gobblet%20Gobblers%20game/BrainstormLand9.ipynb#X43sZmlsZQ%3D%3D?line=27'>28</a>\u001b[0m \u001b[39mif\u001b[39;00m np\u001b[39m.\u001b[39mwhere(board[\u001b[39m0\u001b[39m:\u001b[39m12\u001b[39m] \u001b[39m==\u001b[39m \u001b[39m5\u001b[39m)[\u001b[39m0\u001b[39m] \u001b[39m!=\u001b[39m np\u001b[39m.\u001b[39mwhere(canonical[\u001b[39m0\u001b[39m:\u001b[39m12\u001b[39m] \u001b[39m==\u001b[39m \u001b[39m5\u001b[39m)[\u001b[39m0\u001b[39m]:\n\u001b[0;32m     <a href='vscode-notebook-cell:/c%3A/Users/mjw01/OneDrive/JCU%20Fall%202023/GG%20Research/GG%20Python/Gobblet%20Gobblers%20game/BrainstormLand9.ipynb#X43sZmlsZQ%3D%3D?line=28'>29</a>\u001b[0m      \u001b[39m# The key word 'continue' means to exit the current iteration of the for-loop and continue to the next iteration\u001b[39;00m\n\u001b[0;32m     <a href='vscode-notebook-cell:/c%3A/Users/mjw01/OneDrive/JCU%20Fall%202023/GG%20Research/GG%20Python/Gobblet%20Gobblers%20game/BrainstormLand9.ipynb#X43sZmlsZQ%3D%3D?line=29'>30</a>\u001b[0m      \u001b[39mcontinue\u001b[39;00m\n\u001b[1;32m---> <a href='vscode-notebook-cell:/c%3A/Users/mjw01/OneDrive/JCU%20Fall%202023/GG%20Research/GG%20Python/Gobblet%20Gobblers%20game/BrainstormLand9.ipynb#X43sZmlsZQ%3D%3D?line=31'>32</a>\u001b[0m \u001b[39melif\u001b[39;00m np\u001b[39m.\u001b[39mwhere(board[\u001b[39m0\u001b[39m:\u001b[39m12\u001b[39m] \u001b[39m==\u001b[39m \u001b[39m1\u001b[39m)[\u001b[39m0\u001b[39m] \u001b[39m==\u001b[39m np\u001b[39m.\u001b[39mwhere(canonical[\u001b[39m0\u001b[39m:\u001b[39m12\u001b[39m] \u001b[39m==\u001b[39m \u001b[39m1\u001b[39m)[\u001b[39m0\u001b[39m]:\n\u001b[0;32m     <a href='vscode-notebook-cell:/c%3A/Users/mjw01/OneDrive/JCU%20Fall%202023/GG%20Research/GG%20Python/Gobblet%20Gobblers%20game/BrainstormLand9.ipynb#X43sZmlsZQ%3D%3D?line=32'>33</a>\u001b[0m     \u001b[39mif\u001b[39;00m np\u001b[39m.\u001b[39mwhere(board[\u001b[39m0\u001b[39m:\u001b[39m12\u001b[39m] \u001b[39m==\u001b[39m \u001b[39m9\u001b[39m)[\u001b[39m0\u001b[39m] \u001b[39m==\u001b[39m np\u001b[39m.\u001b[39mwhere(canonical[\u001b[39m0\u001b[39m:\u001b[39m12\u001b[39m] \u001b[39m==\u001b[39m \u001b[39m9\u001b[39m)[\u001b[39m0\u001b[39m]:\n\u001b[0;32m     <a href='vscode-notebook-cell:/c%3A/Users/mjw01/OneDrive/JCU%20Fall%202023/GG%20Research/GG%20Python/Gobblet%20Gobblers%20game/BrainstormLand9.ipynb#X43sZmlsZQ%3D%3D?line=33'>34</a>\u001b[0m         \u001b[39mif\u001b[39;00m np\u001b[39m.\u001b[39mwhere(board[\u001b[39m0\u001b[39m:\u001b[39m12\u001b[39m] \u001b[39m==\u001b[39m \u001b[39m3\u001b[39m)[\u001b[39m0\u001b[39m] \u001b[39m==\u001b[39m np\u001b[39m.\u001b[39mwhere(canonical[\u001b[39m0\u001b[39m:\u001b[39m12\u001b[39m] \u001b[39m==\u001b[39m \u001b[39m3\u001b[39m)[\u001b[39m0\u001b[39m]:\n",
      "\u001b[1;31mValueError\u001b[0m: The truth value of an array with more than one element is ambiguous. Use a.any() or a.all()"
     ]
    }
   ],
   "source": [
    "isNew(exception_board)"
   ]
  },
  {
   "cell_type": "code",
   "execution_count": null,
   "metadata": {},
   "outputs": [],
   "source": [
    "middle_game_state = np.array([0, 0, 3, 8, 5, 0, 0, 0, 9, 2, 3, 0, 0, 0])\n",
    "placeable_pieces = available_pieces(middle_game_state)\n",
    "leftover_pieces = eliminate_redundant_pieces(available_pieces(middle_game_state))"
   ]
  },
  {
   "cell_type": "code",
   "execution_count": null,
   "metadata": {},
   "outputs": [
    {
     "name": "stdout",
     "output_type": "stream",
     "text": [
      "placeable_pieces = [0 1 5]\n",
      "leftover_pieces = [0 5]\n"
     ]
    }
   ],
   "source": [
    "print(f'placeable_pieces = {placeable_pieces}\\n'\n",
    "      f'leftover_pieces = {leftover_pieces}')"
   ]
  },
  {
   "cell_type": "code",
   "execution_count": null,
   "metadata": {},
   "outputs": [],
   "source": [
    "copy = np.array([0, 0, 3, 8, 5, 0, 0, 0, 9, 2, 3, 0, 0, 0])\n",
    "symmetric1 = np.append(rotation_90_mapping[np.array([0, 0, 3, 8, 5, 0, 0, 0, 9, 2, 3, 0, 0, 0])[:12]], np.array([0, 0, 3, 8, 5, 0, 0, 0, 9, 2, 3, 0, 0, 0])[12:])\n",
    "symmetric2 = np.append(rotation_180_mapping[np.array([0, 0, 3, 8, 5, 0, 0, 0, 9, 2, 3, 0, 0, 0])[:12]], np.array([0, 0, 3, 8, 5, 0, 0, 0, 9, 2, 3, 0, 0, 0])[12:])\n",
    "symmetric3 = np.append(rotation_270_mapping[np.array([0, 0, 3, 8, 5, 0, 0, 0, 9, 2, 3, 0, 0, 0])[:12]], np.array([0, 0, 3, 8, 5, 0, 0, 0, 9, 2, 3, 0, 0, 0])[12:])\n",
    "symmetric4 = np.append(vertical_reflection_mapping[np.array([0, 0, 3, 8, 5, 0, 0, 0, 9, 2, 3, 0, 0, 0])[:12]], np.array([0, 0, 3, 8, 5, 0, 0, 0, 9, 2, 3, 0, 0, 0])[12:])\n",
    "symmetric5 = np.append(horizontal_reflection_mapping[np.array([0, 0, 3, 8, 5, 0, 0, 0, 9, 2, 3, 0, 0, 0])[:12]], np.array([0, 0, 3, 8, 5, 0, 0, 0, 9, 2, 3, 0, 0, 0])[12:])\n",
    "symmetric6 = np.append(r90_vreflect_mapping[np.array([0, 0, 3, 8, 5, 0, 0, 0, 9, 2, 3, 0, 0, 0])[:12]], np.array([0, 0, 3, 8, 5, 0, 0, 0, 9, 2, 3, 0, 0, 0])[12:])\n",
    "symmetric7 = np.append(r90_hreflect_mapping[np.array([0, 0, 3, 8, 5, 0, 0, 0, 9, 2, 3, 0, 0, 0])[:12]], np.array([0, 0, 3, 8, 5, 0, 0, 0, 9, 2, 3, 0, 0, 0])[12:])"
   ]
  },
  {
   "cell_type": "code",
   "execution_count": null,
   "metadata": {},
   "outputs": [],
   "source": [
    "legal_moves_set(middle_game_state)"
   ]
  },
  {
   "cell_type": "code",
   "execution_count": null,
   "metadata": {},
   "outputs": [
    {
     "data": {
      "text/plain": [
       "{(0, 0, 3, 8, 1, 5, 0, 0, 9, 2, 3, 0, 0, 0),\n",
       " (0, 0, 3, 8, 2, 5, 0, 0, 9, 2, 3, 0, 0, 0),\n",
       " (0, 0, 3, 8, 2, 5, 0, 0, 9, 2, 3, 0, 0, 10),\n",
       " (0, 0, 3, 8, 4, 5, 0, 0, 9, 2, 3, 0, 0, 0),\n",
       " (0, 0, 3, 8, 5, 6, 0, 0, 9, 2, 3, 0, 0, 0),\n",
       " (0, 0, 3, 8, 5, 7, 0, 0, 9, 2, 3, 0, 0, 0),\n",
       " (0, 0, 3, 8, 5, 8, 0, 0, 9, 2, 3, 0, 0, 0),\n",
       " (0, 0, 3, 8, 5, 9, 0, 0, 9, 2, 3, 0, 0, 0),\n",
       " (0, 1, 3, 8, 5, 0, 0, 0, 9, 2, 3, 0, 0, 0),\n",
       " (0, 4, 3, 8, 5, 0, 0, 0, 9, 2, 3, 0, 0, 0),\n",
       " (0, 6, 3, 8, 5, 0, 0, 0, 9, 2, 3, 0, 0, 0),\n",
       " (0, 7, 3, 8, 5, 0, 0, 0, 9, 2, 3, 0, 0, 0)}"
      ]
     },
     "execution_count": 97,
     "metadata": {},
     "output_type": "execute_result"
    }
   ],
   "source": [
    "canonical_boards"
   ]
  },
  {
   "cell_type": "code",
   "execution_count": null,
   "metadata": {},
   "outputs": [
    {
     "ename": "ValueError",
     "evalue": "The truth value of an array with more than one element is ambiguous. Use a.any() or a.all()",
     "output_type": "error",
     "traceback": [
      "\u001b[1;31m---------------------------------------------------------------------------\u001b[0m",
      "\u001b[1;31mValueError\u001b[0m                                Traceback (most recent call last)",
      "\u001b[1;32mc:\\Users\\mjw01\\OneDrive\\JCU Fall 2023\\GG Research\\GG Python\\Gobblet Gobblers game\\BrainstormLand9.ipynb Cell 22\u001b[0m line \u001b[0;36m1\n\u001b[1;32m----> <a href='vscode-notebook-cell:/c%3A/Users/mjw01/OneDrive/JCU%20Fall%202023/GG%20Research/GG%20Python/Gobblet%20Gobblers%20game/BrainstormLand9.ipynb#Y105sZmlsZQ%3D%3D?line=0'>1</a>\u001b[0m legal_moves_list(middle_game_state)\n",
      "\u001b[1;32mc:\\Users\\mjw01\\OneDrive\\JCU Fall 2023\\GG Research\\GG Python\\Gobblet Gobblers game\\BrainstormLand9.ipynb Cell 22\u001b[0m line \u001b[0;36m2\n\u001b[0;32m     <a href='vscode-notebook-cell:/c%3A/Users/mjw01/OneDrive/JCU%20Fall%202023/GG%20Research/GG%20Python/Gobblet%20Gobblers%20game/BrainstormLand9.ipynb#Y105sZmlsZQ%3D%3D?line=18'>19</a>\u001b[0m         temp_board \u001b[39m=\u001b[39m check_win(temp_board)\n\u001b[0;32m     <a href='vscode-notebook-cell:/c%3A/Users/mjw01/OneDrive/JCU%20Fall%202023/GG%20Research/GG%20Python/Gobblet%20Gobblers%20game/BrainstormLand9.ipynb#Y105sZmlsZQ%3D%3D?line=19'>20</a>\u001b[0m         \u001b[39m# isNew() function returns True if the board is canonical and False if the board or a symmetric version of it is found in\u001b[39;00m\n\u001b[0;32m     <a href='vscode-notebook-cell:/c%3A/Users/mjw01/OneDrive/JCU%20Fall%202023/GG%20Research/GG%20Python/Gobblet%20Gobblers%20game/BrainstormLand9.ipynb#Y105sZmlsZQ%3D%3D?line=20'>21</a>\u001b[0m         \u001b[39m# canonical_list. Therefore we must append the board here if isNew() is True.\u001b[39;00m\n\u001b[1;32m---> <a href='vscode-notebook-cell:/c%3A/Users/mjw01/OneDrive/JCU%20Fall%202023/GG%20Research/GG%20Python/Gobblet%20Gobblers%20game/BrainstormLand9.ipynb#Y105sZmlsZQ%3D%3D?line=21'>22</a>\u001b[0m         \u001b[39mif\u001b[39;00m isNew(temp_board): canonical_list\u001b[39m.\u001b[39mappend(temp_board)\n\u001b[0;32m     <a href='vscode-notebook-cell:/c%3A/Users/mjw01/OneDrive/JCU%20Fall%202023/GG%20Research/GG%20Python/Gobblet%20Gobblers%20game/BrainstormLand9.ipynb#Y105sZmlsZQ%3D%3D?line=22'>23</a>\u001b[0m         temp_board \u001b[39m=\u001b[39m board\u001b[39m.\u001b[39mcopy()\n\u001b[0;32m     <a href='vscode-notebook-cell:/c%3A/Users/mjw01/OneDrive/JCU%20Fall%202023/GG%20Research/GG%20Python/Gobblet%20Gobblers%20game/BrainstormLand9.ipynb#Y105sZmlsZQ%3D%3D?line=23'>24</a>\u001b[0m \u001b[39melif\u001b[39;00m piece \u001b[39min\u001b[39;00m (\u001b[39m2\u001b[39m, \u001b[39m3\u001b[39m, \u001b[39m8\u001b[39m, \u001b[39m9\u001b[39m):\n",
      "\u001b[1;32mc:\\Users\\mjw01\\OneDrive\\JCU Fall 2023\\GG Research\\GG Python\\Gobblet Gobblers game\\BrainstormLand9.ipynb Cell 22\u001b[0m line \u001b[0;36m3\n\u001b[0;32m     <a href='vscode-notebook-cell:/c%3A/Users/mjw01/OneDrive/JCU%20Fall%202023/GG%20Research/GG%20Python/Gobblet%20Gobblers%20game/BrainstormLand9.ipynb#Y105sZmlsZQ%3D%3D?line=31'>32</a>\u001b[0m \u001b[39melif\u001b[39;00m np\u001b[39m.\u001b[39mwhere(board[\u001b[39m0\u001b[39m:\u001b[39m12\u001b[39m] \u001b[39m==\u001b[39m \u001b[39m1\u001b[39m)[\u001b[39m0\u001b[39m] \u001b[39m==\u001b[39m np\u001b[39m.\u001b[39mwhere(canonical[\u001b[39m0\u001b[39m:\u001b[39m12\u001b[39m] \u001b[39m==\u001b[39m \u001b[39m1\u001b[39m)[\u001b[39m0\u001b[39m]:\n\u001b[0;32m     <a href='vscode-notebook-cell:/c%3A/Users/mjw01/OneDrive/JCU%20Fall%202023/GG%20Research/GG%20Python/Gobblet%20Gobblers%20game/BrainstormLand9.ipynb#Y105sZmlsZQ%3D%3D?line=32'>33</a>\u001b[0m     \u001b[39mif\u001b[39;00m np\u001b[39m.\u001b[39mwhere(board[\u001b[39m0\u001b[39m:\u001b[39m12\u001b[39m] \u001b[39m==\u001b[39m \u001b[39m9\u001b[39m)[\u001b[39m0\u001b[39m] \u001b[39m==\u001b[39m np\u001b[39m.\u001b[39mwhere(canonical[\u001b[39m0\u001b[39m:\u001b[39m12\u001b[39m] \u001b[39m==\u001b[39m \u001b[39m9\u001b[39m)[\u001b[39m0\u001b[39m]:\n\u001b[1;32m---> <a href='vscode-notebook-cell:/c%3A/Users/mjw01/OneDrive/JCU%20Fall%202023/GG%20Research/GG%20Python/Gobblet%20Gobblers%20game/BrainstormLand9.ipynb#Y105sZmlsZQ%3D%3D?line=33'>34</a>\u001b[0m         \u001b[39mif\u001b[39;00m np\u001b[39m.\u001b[39mwhere(board[\u001b[39m0\u001b[39m:\u001b[39m12\u001b[39m] \u001b[39m==\u001b[39m \u001b[39m3\u001b[39m)[\u001b[39m0\u001b[39m] \u001b[39m==\u001b[39m np\u001b[39m.\u001b[39mwhere(canonical[\u001b[39m0\u001b[39m:\u001b[39m12\u001b[39m] \u001b[39m==\u001b[39m \u001b[39m3\u001b[39m)[\u001b[39m0\u001b[39m]:\n\u001b[0;32m     <a href='vscode-notebook-cell:/c%3A/Users/mjw01/OneDrive/JCU%20Fall%202023/GG%20Research/GG%20Python/Gobblet%20Gobblers%20game/BrainstormLand9.ipynb#Y105sZmlsZQ%3D%3D?line=34'>35</a>\u001b[0m             \u001b[39mif\u001b[39;00m board \u001b[39m==\u001b[39m canonical:\n\u001b[0;32m     <a href='vscode-notebook-cell:/c%3A/Users/mjw01/OneDrive/JCU%20Fall%202023/GG%20Research/GG%20Python/Gobblet%20Gobblers%20game/BrainstormLand9.ipynb#Y105sZmlsZQ%3D%3D?line=35'>36</a>\u001b[0m                 \u001b[39mreturn\u001b[39;00m \u001b[39mFalse\u001b[39;00m\n",
      "\u001b[1;31mValueError\u001b[0m: The truth value of an array with more than one element is ambiguous. Use a.any() or a.all()"
     ]
    }
   ],
   "source": [
    "legal_moves_list(middle_game_state)"
   ]
  },
  {
   "cell_type": "code",
   "execution_count": null,
   "metadata": {},
   "outputs": [
    {
     "data": {
      "text/plain": [
       "[array([0, 1, 3, 8, 5, 0, 0, 0, 9, 2, 3, 0, 0, 0]),\n",
       " array([0, 4, 3, 8, 5, 0, 0, 0, 9, 2, 3, 0, 0, 0]),\n",
       " array([0, 6, 3, 8, 5, 0, 0, 0, 9, 2, 3, 0, 0, 0]),\n",
       " array([0, 7, 3, 8, 5, 0, 0, 0, 9, 2, 3, 0, 0, 0]),\n",
       " array([0, 0, 3, 8, 1, 5, 0, 0, 9, 2, 3, 0, 0, 0]),\n",
       " array([ 0,  0,  3,  8,  2,  5,  0,  0,  9,  2,  3,  0,  0, 10]),\n",
       " array([0, 0, 3, 8, 4, 5, 0, 0, 9, 2, 3, 0, 0, 0]),\n",
       " array([0, 0, 3, 8, 5, 6, 0, 0, 9, 2, 3, 0, 0, 0]),\n",
       " array([0, 0, 3, 8, 5, 7, 0, 0, 9, 2, 3, 0, 0, 0]),\n",
       " array([0, 0, 3, 8, 5, 8, 0, 0, 9, 2, 3, 0, 0, 0]),\n",
       " array([0, 0, 3, 8, 5, 9, 0, 0, 9, 2, 3, 0, 0, 0])]"
      ]
     },
     "execution_count": 89,
     "metadata": {},
     "output_type": "execute_result"
    }
   ],
   "source": [
    "canonical_list"
   ]
  },
  {
   "cell_type": "code",
   "execution_count": null,
   "metadata": {},
   "outputs": [
    {
     "data": {
      "text/plain": [
       "array([9, 5, 0, 3, 7, 1, 4, 0, 6, 0, 0, 5, 0, 0])"
      ]
     },
     "execution_count": 47,
     "metadata": {},
     "output_type": "execute_result"
    }
   ],
   "source": [
    "board1 = create_board()\n",
    "board1[1] = 5\n",
    "board1[0] = 9\n",
    "board1[2] = 0\n",
    "board1[3] = 3\n",
    "board1[4] = 7\n",
    "board1[5] = 1\n",
    "board1[11] = 5\n",
    "board1[6] = 4\n",
    "board1[8] = 6\n",
    "board1"
   ]
  },
  {
   "cell_type": "code",
   "execution_count": null,
   "metadata": {},
   "outputs": [
    {
     "data": {
      "text/plain": [
       "array([  9,   5,   0,   3,   7,   1,   4,   0,   6,   0,   0,   5,   0,\n",
       "       -10])"
      ]
     },
     "execution_count": 48,
     "metadata": {},
     "output_type": "execute_result"
    }
   ],
   "source": [
    "check_win(board1)\n",
    "board1"
   ]
  },
  {
   "cell_type": "code",
   "execution_count": 64,
   "metadata": {},
   "outputs": [],
   "source": [
    "board1 = np.array([0, 0, 8, 0, 1, 2, 6, 0, 7, 0, 3, 0, 0, 0])\n",
    "board2 = np.array([3, 0, 0, 0, 0, 0, 0, 0, 4, 0, 0, 0, 0, 0])\n",
    "board3 = np.array([0, 0, 0, 0, 5, 8, 0, 0, 3, 0, 2, 0, 0, 0])"
   ]
  },
  {
   "cell_type": "code",
   "execution_count": 66,
   "metadata": {},
   "outputs": [
    {
     "ename": "ValueError",
     "evalue": "The truth value of an array with more than one element is ambiguous. Use a.any() or a.all()",
     "output_type": "error",
     "traceback": [
      "\u001b[1;31m---------------------------------------------------------------------------\u001b[0m",
      "\u001b[1;31mValueError\u001b[0m                                Traceback (most recent call last)",
      "Cell \u001b[1;32mIn[66], line 1\u001b[0m\n\u001b[1;32m----> 1\u001b[0m legal_moves_list(board2)\n",
      "Cell \u001b[1;32mIn[63], line 49\u001b[0m, in \u001b[0;36mlegal_moves_list\u001b[1;34m(board)\u001b[0m\n\u001b[0;32m     47\u001b[0m temp_board \u001b[38;5;241m=\u001b[39m check_win(temp_board)\n\u001b[0;32m     48\u001b[0m temp_board \u001b[38;5;241m=\u001b[39m temp_board\u001b[38;5;241m.\u001b[39mreshape(\u001b[38;5;241m7\u001b[39m, \u001b[38;5;241m2\u001b[39m)\n\u001b[1;32m---> 49\u001b[0m \u001b[38;5;28;01mif\u001b[39;00m isNew(temp_board): canonical_list\u001b[38;5;241m.\u001b[39mappend(temp_board)\n\u001b[0;32m     50\u001b[0m temp_board \u001b[38;5;241m=\u001b[39m board\u001b[38;5;241m.\u001b[39mcopy()\n",
      "Cell \u001b[1;32mIn[53], line 49\u001b[0m, in \u001b[0;36misNew\u001b[1;34m(board)\u001b[0m\n\u001b[0;32m     46\u001b[0m     \u001b[38;5;28;01melse\u001b[39;00m:\n\u001b[0;32m     47\u001b[0m         \u001b[38;5;28;01mcontinue\u001b[39;00m\n\u001b[1;32m---> 49\u001b[0m \u001b[38;5;28;01melif\u001b[39;00m np\u001b[38;5;241m.\u001b[39mwhere(board[\u001b[38;5;241m0\u001b[39m:\u001b[38;5;241m12\u001b[39m] \u001b[38;5;241m==\u001b[39m \u001b[38;5;241m1\u001b[39m)[\u001b[38;5;241m0\u001b[39m] \u001b[38;5;241m==\u001b[39m np\u001b[38;5;241m.\u001b[39mwhere(canonical[\u001b[38;5;241m0\u001b[39m:\u001b[38;5;241m12\u001b[39m] \u001b[38;5;241m==\u001b[39m \u001b[38;5;241m3\u001b[39m)[\u001b[38;5;241m0\u001b[39m]:\n\u001b[0;32m     50\u001b[0m     \u001b[38;5;28;01mif\u001b[39;00m np\u001b[38;5;241m.\u001b[39mwhere(board[\u001b[38;5;241m0\u001b[39m:\u001b[38;5;241m12\u001b[39m] \u001b[38;5;241m==\u001b[39m \u001b[38;5;241m9\u001b[39m)[\u001b[38;5;241m0\u001b[39m] \u001b[38;5;241m==\u001b[39m np\u001b[38;5;241m.\u001b[39mwhere(canonical[\u001b[38;5;241m0\u001b[39m:\u001b[38;5;241m12\u001b[39m] \u001b[38;5;241m==\u001b[39m \u001b[38;5;241m7\u001b[39m)[\u001b[38;5;241m0\u001b[39m]:\n\u001b[0;32m     51\u001b[0m         \u001b[38;5;28;01mif\u001b[39;00m np\u001b[38;5;241m.\u001b[39mwhere(board[\u001b[38;5;241m0\u001b[39m:\u001b[38;5;241m12\u001b[39m] \u001b[38;5;241m==\u001b[39m \u001b[38;5;241m3\u001b[39m)[\u001b[38;5;241m0\u001b[39m] \u001b[38;5;241m==\u001b[39m np\u001b[38;5;241m.\u001b[39mwhere(canonical[\u001b[38;5;241m0\u001b[39m:\u001b[38;5;241m12\u001b[39m] \u001b[38;5;241m==\u001b[39m \u001b[38;5;241m9\u001b[39m)[\u001b[38;5;241m0\u001b[39m]:\n",
      "\u001b[1;31mValueError\u001b[0m: The truth value of an array with more than one element is ambiguous. Use a.any() or a.all()"
     ]
    }
   ],
   "source": [
    "legal_moves_list(board2)"
   ]
  }
 ],
 "metadata": {
  "kernelspec": {
   "display_name": "base",
   "language": "python",
   "name": "python3"
  },
  "language_info": {
   "codemirror_mode": {
    "name": "ipython",
    "version": 3
   },
   "file_extension": ".py",
   "mimetype": "text/x-python",
   "name": "python",
   "nbconvert_exporter": "python",
   "pygments_lexer": "ipython3",
   "version": "3.11.4"
  },
  "orig_nbformat": 4
 },
 "nbformat": 4,
 "nbformat_minor": 2
}
